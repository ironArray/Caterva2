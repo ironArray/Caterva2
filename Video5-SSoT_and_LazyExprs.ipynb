{
 "cells": [
  {
   "cell_type": "markdown",
   "id": "ed72a08f52eb80f2",
   "metadata": {},
   "source": [
    "# Video 5: SSoT and Lazy Expressions"
   ]
  },
  {
   "cell_type": "markdown",
   "id": "81c39f01140affc",
   "metadata": {},
   "source": [
    "#### Step 0: Move Data to Server"
   ]
  },
  {
   "cell_type": "code",
   "execution_count": 1,
   "id": "6124bdf93fb121c2",
   "metadata": {
    "ExecuteTime": {
     "end_time": "2025-05-05T10:12:59.134281Z",
     "start_time": "2025-05-05T10:12:32.709533Z"
    },
    "scrolled": true
   },
   "outputs": [
    {
     "name": "stdout",
     "output_type": "stream",
     "text": [
      "Requirement already satisfied: caterva2 in /home/lshaw/miniforge3/envs/blosc2env/lib/python3.12/site-packages (2025.5.2)\n",
      "Requirement already satisfied: blosc2 in /home/lshaw/miniforge3/envs/blosc2env/lib/python3.12/site-packages (3.3.3.dev0)\n",
      "Requirement already satisfied: blosc2_grok in /home/lshaw/miniforge3/envs/blosc2env/lib/python3.12/site-packages (0.3.3)\n",
      "Requirement already satisfied: matplotlib in /home/lshaw/miniforge3/envs/blosc2env/lib/python3.12/site-packages (3.10.1)\n",
      "Requirement already satisfied: xarray>=2025.1.2 in /home/lshaw/miniforge3/envs/blosc2env/lib/python3.12/site-packages (from xarray[complete]>=2025.1.2) (2025.4.0)\n",
      "Requirement already satisfied: zarr>=3.0.4 in /home/lshaw/miniforge3/envs/blosc2env/lib/python3.12/site-packages (3.0.7)\n",
      "Requirement already satisfied: requests in /home/lshaw/miniforge3/envs/blosc2env/lib/python3.12/site-packages (2.32.3)\n",
      "Requirement already satisfied: aiohttp in /home/lshaw/miniforge3/envs/blosc2env/lib/python3.12/site-packages (3.11.18)\n",
      "Requirement already satisfied: fsspec in /home/lshaw/miniforge3/envs/blosc2env/lib/python3.12/site-packages (2025.3.2)\n",
      "Requirement already satisfied: httpx in /home/lshaw/miniforge3/envs/blosc2env/lib/python3.12/site-packages (from caterva2) (0.28.1)\n",
      "Requirement already satisfied: numpy>=1.26 in /home/lshaw/miniforge3/envs/blosc2env/lib/python3.12/site-packages (from blosc2) (2.2.4)\n",
      "Requirement already satisfied: ndindex in /home/lshaw/miniforge3/envs/blosc2env/lib/python3.12/site-packages (from blosc2) (1.9.2)\n",
      "Requirement already satisfied: msgpack in /home/lshaw/miniforge3/envs/blosc2env/lib/python3.12/site-packages (from blosc2) (1.1.0)\n",
      "Requirement already satisfied: platformdirs in /home/lshaw/miniforge3/envs/blosc2env/lib/python3.12/site-packages (from blosc2) (4.3.7)\n",
      "Requirement already satisfied: numexpr in /home/lshaw/miniforge3/envs/blosc2env/lib/python3.12/site-packages (from blosc2) (2.10.2)\n",
      "Requirement already satisfied: py-cpuinfo in /home/lshaw/miniforge3/envs/blosc2env/lib/python3.12/site-packages (from blosc2) (9.0.0)\n",
      "Requirement already satisfied: contourpy>=1.0.1 in /home/lshaw/miniforge3/envs/blosc2env/lib/python3.12/site-packages (from matplotlib) (1.3.2)\n",
      "Requirement already satisfied: cycler>=0.10 in /home/lshaw/miniforge3/envs/blosc2env/lib/python3.12/site-packages (from matplotlib) (0.12.1)\n",
      "Requirement already satisfied: fonttools>=4.22.0 in /home/lshaw/miniforge3/envs/blosc2env/lib/python3.12/site-packages (from matplotlib) (4.57.0)\n",
      "Requirement already satisfied: kiwisolver>=1.3.1 in /home/lshaw/miniforge3/envs/blosc2env/lib/python3.12/site-packages (from matplotlib) (1.4.8)\n",
      "Requirement already satisfied: packaging>=20.0 in /home/lshaw/miniforge3/envs/blosc2env/lib/python3.12/site-packages (from matplotlib) (24.2)\n",
      "Requirement already satisfied: pillow>=8 in /home/lshaw/miniforge3/envs/blosc2env/lib/python3.12/site-packages (from matplotlib) (11.1.0)\n",
      "Requirement already satisfied: pyparsing>=2.3.1 in /home/lshaw/miniforge3/envs/blosc2env/lib/python3.12/site-packages (from matplotlib) (3.2.3)\n",
      "Requirement already satisfied: python-dateutil>=2.7 in /home/lshaw/miniforge3/envs/blosc2env/lib/python3.12/site-packages (from matplotlib) (2.9.0.post0)\n",
      "Requirement already satisfied: pandas>=2.1 in /home/lshaw/miniforge3/envs/blosc2env/lib/python3.12/site-packages (from xarray>=2025.1.2->xarray[complete]>=2025.1.2) (2.2.3)\n",
      "Requirement already satisfied: donfig>=0.8 in /home/lshaw/miniforge3/envs/blosc2env/lib/python3.12/site-packages (from zarr>=3.0.4) (0.8.1.post1)\n",
      "Requirement already satisfied: numcodecs>=0.14 in /home/lshaw/miniforge3/envs/blosc2env/lib/python3.12/site-packages (from numcodecs[crc32c]>=0.14->zarr>=3.0.4) (0.16.0)\n",
      "Requirement already satisfied: typing-extensions>=4.9 in /home/lshaw/miniforge3/envs/blosc2env/lib/python3.12/site-packages (from zarr>=3.0.4) (4.13.2)\n",
      "Requirement already satisfied: charset-normalizer<4,>=2 in /home/lshaw/miniforge3/envs/blosc2env/lib/python3.12/site-packages (from requests) (3.4.1)\n",
      "Requirement already satisfied: idna<4,>=2.5 in /home/lshaw/miniforge3/envs/blosc2env/lib/python3.12/site-packages (from requests) (3.10)\n",
      "Requirement already satisfied: urllib3<3,>=1.21.1 in /home/lshaw/miniforge3/envs/blosc2env/lib/python3.12/site-packages (from requests) (2.3.0)\n",
      "Requirement already satisfied: certifi>=2017.4.17 in /home/lshaw/miniforge3/envs/blosc2env/lib/python3.12/site-packages (from requests) (2025.1.31)\n",
      "Requirement already satisfied: aiohappyeyeballs>=2.3.0 in /home/lshaw/miniforge3/envs/blosc2env/lib/python3.12/site-packages (from aiohttp) (2.6.1)\n",
      "Requirement already satisfied: aiosignal>=1.1.2 in /home/lshaw/miniforge3/envs/blosc2env/lib/python3.12/site-packages (from aiohttp) (1.3.2)\n",
      "Requirement already satisfied: attrs>=17.3.0 in /home/lshaw/miniforge3/envs/blosc2env/lib/python3.12/site-packages (from aiohttp) (25.3.0)\n",
      "Requirement already satisfied: frozenlist>=1.1.1 in /home/lshaw/miniforge3/envs/blosc2env/lib/python3.12/site-packages (from aiohttp) (1.6.0)\n",
      "Requirement already satisfied: multidict<7.0,>=4.5 in /home/lshaw/miniforge3/envs/blosc2env/lib/python3.12/site-packages (from aiohttp) (6.4.3)\n",
      "Requirement already satisfied: propcache>=0.2.0 in /home/lshaw/miniforge3/envs/blosc2env/lib/python3.12/site-packages (from aiohttp) (0.3.1)\n",
      "Requirement already satisfied: yarl<2.0,>=1.17.0 in /home/lshaw/miniforge3/envs/blosc2env/lib/python3.12/site-packages (from aiohttp) (1.20.0)\n",
      "Requirement already satisfied: pyyaml in /home/lshaw/miniforge3/envs/blosc2env/lib/python3.12/site-packages (from donfig>=0.8->zarr>=3.0.4) (6.0.2)\n",
      "Requirement already satisfied: crc32c>=2.7 in /home/lshaw/miniforge3/envs/blosc2env/lib/python3.12/site-packages (from numcodecs[crc32c]>=0.14->zarr>=3.0.4) (2.7.1)\n",
      "Requirement already satisfied: pytz>=2020.1 in /home/lshaw/miniforge3/envs/blosc2env/lib/python3.12/site-packages (from pandas>=2.1->xarray>=2025.1.2->xarray[complete]>=2025.1.2) (2025.2)\n",
      "Requirement already satisfied: tzdata>=2022.7 in /home/lshaw/miniforge3/envs/blosc2env/lib/python3.12/site-packages (from pandas>=2.1->xarray>=2025.1.2->xarray[complete]>=2025.1.2) (2025.2)\n",
      "Requirement already satisfied: six>=1.5 in /home/lshaw/miniforge3/envs/blosc2env/lib/python3.12/site-packages (from python-dateutil>=2.7->matplotlib) (1.17.0)\n",
      "Requirement already satisfied: anyio in /home/lshaw/miniforge3/envs/blosc2env/lib/python3.12/site-packages (from httpx->caterva2) (4.9.0)\n",
      "Requirement already satisfied: httpcore==1.* in /home/lshaw/miniforge3/envs/blosc2env/lib/python3.12/site-packages (from httpx->caterva2) (1.0.8)\n",
      "Requirement already satisfied: h11<0.15,>=0.13 in /home/lshaw/miniforge3/envs/blosc2env/lib/python3.12/site-packages (from httpcore==1.*->httpx->caterva2) (0.14.0)\n",
      "Requirement already satisfied: scipy in /home/lshaw/miniforge3/envs/blosc2env/lib/python3.12/site-packages (from xarray>=2025.1.2->xarray[complete]>=2025.1.2) (1.15.2)\n",
      "Requirement already satisfied: bottleneck in /home/lshaw/miniforge3/envs/blosc2env/lib/python3.12/site-packages (from xarray>=2025.1.2->xarray[complete]>=2025.1.2) (1.4.2)\n",
      "Requirement already satisfied: numbagg in /home/lshaw/miniforge3/envs/blosc2env/lib/python3.12/site-packages (from xarray>=2025.1.2->xarray[complete]>=2025.1.2) (0.9.0)\n",
      "Requirement already satisfied: numba>=0.54 in /home/lshaw/miniforge3/envs/blosc2env/lib/python3.12/site-packages (from xarray>=2025.1.2->xarray[complete]>=2025.1.2) (0.61.2)\n",
      "Requirement already satisfied: flox in /home/lshaw/miniforge3/envs/blosc2env/lib/python3.12/site-packages (from xarray>=2025.1.2->xarray[complete]>=2025.1.2) (0.10.3)\n",
      "Requirement already satisfied: opt_einsum in /home/lshaw/miniforge3/envs/blosc2env/lib/python3.12/site-packages (from xarray>=2025.1.2->xarray[complete]>=2025.1.2) (3.4.0)\n",
      "Requirement already satisfied: netCDF4 in /home/lshaw/miniforge3/envs/blosc2env/lib/python3.12/site-packages (from xarray>=2025.1.2->xarray[complete]>=2025.1.2) (1.7.2)\n",
      "Requirement already satisfied: h5netcdf in /home/lshaw/miniforge3/envs/blosc2env/lib/python3.12/site-packages (from xarray>=2025.1.2->xarray[complete]>=2025.1.2) (1.6.1)\n",
      "Requirement already satisfied: cftime in /home/lshaw/miniforge3/envs/blosc2env/lib/python3.12/site-packages (from xarray>=2025.1.2->xarray[complete]>=2025.1.2) (1.6.4.post1)\n",
      "Requirement already satisfied: pooch in /home/lshaw/miniforge3/envs/blosc2env/lib/python3.12/site-packages (from xarray>=2025.1.2->xarray[complete]>=2025.1.2) (1.8.2)\n",
      "Requirement already satisfied: sparse in /home/lshaw/miniforge3/envs/blosc2env/lib/python3.12/site-packages (from xarray>=2025.1.2->xarray[complete]>=2025.1.2) (0.16.0)\n",
      "Requirement already satisfied: dask[complete] in /home/lshaw/miniforge3/envs/blosc2env/lib/python3.12/site-packages (from xarray>=2025.1.2->xarray[complete]>=2025.1.2) (2025.4.1)\n",
      "Requirement already satisfied: cartopy in /home/lshaw/miniforge3/envs/blosc2env/lib/python3.12/site-packages (from xarray>=2025.1.2->xarray[complete]>=2025.1.2) (0.24.1)\n",
      "Requirement already satisfied: nc-time-axis in /home/lshaw/miniforge3/envs/blosc2env/lib/python3.12/site-packages (from xarray>=2025.1.2->xarray[complete]>=2025.1.2) (1.4.1)\n",
      "Requirement already satisfied: seaborn in /home/lshaw/miniforge3/envs/blosc2env/lib/python3.12/site-packages (from xarray>=2025.1.2->xarray[complete]>=2025.1.2) (0.13.2)\n",
      "Requirement already satisfied: llvmlite<0.45,>=0.44.0dev0 in /home/lshaw/miniforge3/envs/blosc2env/lib/python3.12/site-packages (from numba>=0.54->xarray>=2025.1.2->xarray[complete]>=2025.1.2) (0.44.0)\n",
      "Requirement already satisfied: sniffio>=1.1 in /home/lshaw/miniforge3/envs/blosc2env/lib/python3.12/site-packages (from anyio->httpx->caterva2) (1.3.1)\n",
      "Requirement already satisfied: shapely>=1.8 in /home/lshaw/miniforge3/envs/blosc2env/lib/python3.12/site-packages (from cartopy->xarray>=2025.1.2->xarray[complete]>=2025.1.2) (2.1.0)\n",
      "Requirement already satisfied: pyshp>=2.3 in /home/lshaw/miniforge3/envs/blosc2env/lib/python3.12/site-packages (from cartopy->xarray>=2025.1.2->xarray[complete]>=2025.1.2) (2.3.1)\n",
      "Requirement already satisfied: pyproj>=3.3.1 in /home/lshaw/miniforge3/envs/blosc2env/lib/python3.12/site-packages (from cartopy->xarray>=2025.1.2->xarray[complete]>=2025.1.2) (3.7.1)\n",
      "Requirement already satisfied: click>=8.1 in /home/lshaw/miniforge3/envs/blosc2env/lib/python3.12/site-packages (from dask[complete]; extra == \"parallel\"->xarray>=2025.1.2->xarray[complete]>=2025.1.2) (8.1.8)\n",
      "Requirement already satisfied: cloudpickle>=3.0.0 in /home/lshaw/miniforge3/envs/blosc2env/lib/python3.12/site-packages (from dask[complete]; extra == \"parallel\"->xarray>=2025.1.2->xarray[complete]>=2025.1.2) (3.1.1)\n",
      "Requirement already satisfied: partd>=1.4.0 in /home/lshaw/miniforge3/envs/blosc2env/lib/python3.12/site-packages (from dask[complete]; extra == \"parallel\"->xarray>=2025.1.2->xarray[complete]>=2025.1.2) (1.4.2)\n",
      "Requirement already satisfied: toolz>=0.10.0 in /home/lshaw/miniforge3/envs/blosc2env/lib/python3.12/site-packages (from dask[complete]; extra == \"parallel\"->xarray>=2025.1.2->xarray[complete]>=2025.1.2) (1.0.0)\n",
      "Requirement already satisfied: pyarrow>=14.0.1 in /home/lshaw/miniforge3/envs/blosc2env/lib/python3.12/site-packages (from dask[complete]; extra == \"parallel\"->xarray>=2025.1.2->xarray[complete]>=2025.1.2) (20.0.0)\n",
      "Requirement already satisfied: lz4>=4.3.2 in /home/lshaw/miniforge3/envs/blosc2env/lib/python3.12/site-packages (from dask[complete]; extra == \"parallel\"->xarray>=2025.1.2->xarray[complete]>=2025.1.2) (4.4.4)\n",
      "Requirement already satisfied: numpy_groupies>=0.9.19 in /home/lshaw/miniforge3/envs/blosc2env/lib/python3.12/site-packages (from flox->xarray>=2025.1.2->xarray[complete]>=2025.1.2) (0.11.2)\n",
      "Requirement already satisfied: h5py in /home/lshaw/miniforge3/envs/blosc2env/lib/python3.12/site-packages (from h5netcdf->xarray>=2025.1.2->xarray[complete]>=2025.1.2) (3.13.0)\n",
      "Requirement already satisfied: locket in /home/lshaw/miniforge3/envs/blosc2env/lib/python3.12/site-packages (from partd>=1.4.0->dask[complete]; extra == \"parallel\"->xarray>=2025.1.2->xarray[complete]>=2025.1.2) (1.0.0)\n",
      "Requirement already satisfied: distributed==2025.4.1 in /home/lshaw/miniforge3/envs/blosc2env/lib/python3.12/site-packages (from dask[complete]->xarray>=2025.1.2->xarray[complete]>=2025.1.2) (2025.4.1)\n",
      "Requirement already satisfied: bokeh>=3.1.0 in /home/lshaw/miniforge3/envs/blosc2env/lib/python3.12/site-packages (from dask[complete]->xarray>=2025.1.2->xarray[complete]>=2025.1.2) (3.7.2)\n",
      "Requirement already satisfied: jinja2>=2.10.3 in /home/lshaw/miniforge3/envs/blosc2env/lib/python3.12/site-packages (from dask[complete]->xarray>=2025.1.2->xarray[complete]>=2025.1.2) (3.1.6)\n",
      "Requirement already satisfied: psutil>=5.8.0 in /home/lshaw/miniforge3/envs/blosc2env/lib/python3.12/site-packages (from distributed==2025.4.1->dask[complete]->xarray>=2025.1.2->xarray[complete]>=2025.1.2) (7.0.0)\n",
      "Requirement already satisfied: sortedcontainers>=2.0.5 in /home/lshaw/miniforge3/envs/blosc2env/lib/python3.12/site-packages (from distributed==2025.4.1->dask[complete]->xarray>=2025.1.2->xarray[complete]>=2025.1.2) (2.4.0)\n",
      "Requirement already satisfied: tblib>=1.6.0 in /home/lshaw/miniforge3/envs/blosc2env/lib/python3.12/site-packages (from distributed==2025.4.1->dask[complete]->xarray>=2025.1.2->xarray[complete]>=2025.1.2) (3.1.0)\n",
      "Requirement already satisfied: tornado>=6.2.0 in /home/lshaw/miniforge3/envs/blosc2env/lib/python3.12/site-packages (from distributed==2025.4.1->dask[complete]->xarray>=2025.1.2->xarray[complete]>=2025.1.2) (6.4.2)\n",
      "Requirement already satisfied: zict>=3.0.0 in /home/lshaw/miniforge3/envs/blosc2env/lib/python3.12/site-packages (from distributed==2025.4.1->dask[complete]->xarray>=2025.1.2->xarray[complete]>=2025.1.2) (3.0.0)\n",
      "Requirement already satisfied: narwhals>=1.13 in /home/lshaw/miniforge3/envs/blosc2env/lib/python3.12/site-packages (from bokeh>=3.1.0->dask[complete]->xarray>=2025.1.2->xarray[complete]>=2025.1.2) (1.37.1)\n",
      "Requirement already satisfied: xyzservices>=2021.09.1 in /home/lshaw/miniforge3/envs/blosc2env/lib/python3.12/site-packages (from bokeh>=3.1.0->dask[complete]->xarray>=2025.1.2->xarray[complete]>=2025.1.2) (2025.4.0)\n",
      "Requirement already satisfied: MarkupSafe>=2.0 in /home/lshaw/miniforge3/envs/blosc2env/lib/python3.12/site-packages (from jinja2>=2.10.3->dask[complete]->xarray>=2025.1.2->xarray[complete]>=2025.1.2) (3.0.2)\n"
     ]
    }
   ],
   "source": [
    "# Install necessary libraries\n",
    "!pip install caterva2 blosc2 blosc2_grok matplotlib \"xarray[complete]>=2025.1.2\" \"zarr>=3.0.4\" requests aiohttp fsspec\n",
    "# Imports\n",
    "import os.path\n",
    "import time\n",
    "\n",
    "import blosc2\n",
    "import numpy as np\n",
    "import xarray as xr\n",
    "\n",
    "import caterva2 as cat2"
   ]
  },
  {
   "cell_type": "code",
   "execution_count": 2,
   "id": "28768c1e-bc73-4d4e-b0de-ed23e8d08264",
   "metadata": {
    "ExecuteTime": {
     "end_time": "2025-05-05T10:13:38.029818Z",
     "start_time": "2025-05-05T10:13:29.548677Z"
    }
   },
   "outputs": [],
   "source": [
    "# Get data from dynamical.org\n",
    "dir_path = \"weather-data\"\n",
    "ds = xr.open_zarr(\"https://data.dynamical.org/noaa/gfs/analysis-hourly/latest.zarr\")\n",
    "lat = slice(70, 0)\n",
    "long = slice(0, 70)\n",
    "datestart, dateend = \"2023-01-01\", \"2024-01-01\"\n",
    "cparams = {\"codec\": blosc2.Codec.ZSTD, \"clevel\": 6}\n",
    "\n",
    "datasets = [\n",
    "    (\"precipitation_surface\", \"precip\"),\n",
    "    (\"temperature_2m\", \"temp\"),\n",
    "    (\"wind_u_10m\", \"windu\"),\n",
    "    (\"wind_v_10m\", \"windv\"),\n",
    "]\n",
    "# Download data locally\n",
    "if not os.path.isdir(dir_path):\n",
    "    os.mkdir(dir_path)\n",
    "\n",
    "for dset, short in datasets:\n",
    "    print(f\"Fetching dataset {dset} from dynamical.org...\")\n",
    "    arr = ds[dset].sel(time=slice(datestart, dateend), latitude=lat, longitude=long)\n",
    "    blosc2.asarray(arr.values, urlpath=f\"{dir_path}/{short}.b2nd\", mode=\"w\", cparams=cparams)"
   ]
  },
  {
   "cell_type": "code",
   "execution_count": 3,
   "id": "75c9d21ea4ce3020",
   "metadata": {
    "ExecuteTime": {
     "end_time": "2025-05-05T10:16:18.145514Z",
     "start_time": "2025-05-05T10:14:23.184545Z"
    }
   },
   "outputs": [],
   "source": [
    "# Setup client connection to server\n",
    "client = cat2.Client(\"https://cat2.cloud/demo\", (\"user@example.com\", \"foobar11\"))\n",
    "client.get_roots()\n",
    "myroot = client.get(\"@shared\")\n",
    "# Upload the files to the server\n",
    "list_of_datasets = []\n",
    "for _, short in datasets:\n",
    "    uploadaddress = f\"{dir_path}/{short}.b2nd\"\n",
    "    apath = client.upload(uploadaddress, myroot.name + \"/\" + uploadaddress)\n",
    "    list_of_datasets += [apath]"
   ]
  },
  {
   "cell_type": "code",
   "execution_count": 30,
   "id": "8614d6c9cdc3b919",
   "metadata": {},
   "outputs": [
    {
     "data": {
      "text/plain": [
       "['weather-data/precip.b2nd',\n",
       " 'weather-data/temp.b2nd',\n",
       " 'weather-data/windu.b2nd',\n",
       " 'weather-data/windv.b2nd']"
      ]
     },
     "execution_count": 30,
     "metadata": {},
     "output_type": "execute_result"
    }
   ],
   "source": [
    "list_of_datasets = [\"weather-data/\" + name for name in client.get_list(myroot.name + \"/\" + \"weather-data\")]\n",
    "list_of_datasets = [\n",
    "    f for f in list_of_datasets if not (f.startswith(\"weather-data/m\") or f.startswith(\"weather-data/s\"))\n",
    "]\n",
    "list_of_datasets"
   ]
  },
  {
   "cell_type": "markdown",
   "id": "43ea9a90fe3782cb",
   "metadata": {},
   "source": [
    "#### Step 1: Save Lazy Expressions on Server"
   ]
  },
  {
   "cell_type": "code",
   "execution_count": 31,
   "id": "258e06189e4f5026",
   "metadata": {},
   "outputs": [],
   "source": [
    "# Lazy Expressions, saved in @personal\n",
    "list_of_stats = []\n",
    "for dset in list_of_datasets:\n",
    "    locdict = {}\n",
    "    locds = myroot[dset]\n",
    "    apath = locds.path\n",
    "    short = str(apath).split(\".\")[0].split(\"/\")[-1]\n",
    "    locdict[\"mean_\" + short] = client.get(\n",
    "        client.lazyexpr(\"mean_\" + short, \"mean(a, axis = 0)\", {\"a\": apath})\n",
    "    )\n",
    "    locdict[\"std_\" + short] = client.get(client.lazyexpr(\"std_\" + short, \"std(a, axis = 0)\", {\"a\": apath}))\n",
    "    locdict[\"sum_\" + short] = client.get(client.lazyexpr(\"sum_\" + short, \"sum(a, axis = 0)\", {\"a\": apath}))\n",
    "    list_of_stats += [locdict]"
   ]
  },
  {
   "cell_type": "code",
   "execution_count": 32,
   "id": "f13e53e9b2e89bda",
   "metadata": {},
   "outputs": [],
   "source": [
    "# Move Lazy Expressions to @shared to enable collaboration\n",
    "for stat in list_of_stats:\n",
    "    for k, v in stat.items():\n",
    "        newpath = client.move(v.path, myroot.name + \"/weather-data/\" + str(v.path).split(\"/\")[-1])\n",
    "        stat[k] = client.get(newpath)"
   ]
  },
  {
   "cell_type": "markdown",
   "id": "432943a14c7bd6d4",
   "metadata": {},
   "source": [
    "#### Step 2: Query Lazy Expressions"
   ]
  },
  {
   "cell_type": "code",
   "execution_count": 33,
   "id": "60b6f2d1ea717bd8",
   "metadata": {
    "ExecuteTime": {
     "end_time": "2025-05-02T12:29:11.130648Z",
     "start_time": "2025-05-02T12:28:38.686076Z"
    }
   },
   "outputs": [
    {
     "name": "stdout",
     "output_type": "stream",
     "text": [
      "mean_precip[20, 100]: 0.00002477\n"
     ]
    }
   ],
   "source": [
    "v = list_of_stats[0][\"mean_precip\"]\n",
    "x = v[20, 100]  # Return numpy array\n",
    "ans = np.format_float_positional(x, unique=False, fractional=False, trim=\"k\", precision=4)\n",
    "print(f\"mean_precip[20, 100]: {ans}\")"
   ]
  },
  {
   "cell_type": "markdown",
   "id": "6b1d4cd743e565a2",
   "metadata": {},
   "source": [
    "#### Step 3: Append extra month of data to the server-hosted datasets"
   ]
  },
  {
   "cell_type": "code",
   "execution_count": 34,
   "id": "49433c67937cb4b4",
   "metadata": {
    "ExecuteTime": {
     "end_time": "2025-05-07T10:17:02.774783Z",
     "start_time": "2025-05-07T10:17:02.634967Z"
    }
   },
   "outputs": [
    {
     "name": "stdout",
     "output_type": "stream",
     "text": [
      "Appended 57.83 MB in 4.54 seconds. Bandwidth: 12.74 MB/s.\n"
     ]
    }
   ],
   "source": [
    "mybytes = 0\n",
    "t1 = time.time()\n",
    "for _, short in datasets:\n",
    "    locfile = f\"{dir_path}/{short}Extra.b2nd\"\n",
    "    uploadaddress = f\"{dir_path}/{short}.b2nd\"\n",
    "    mydataset = myroot[uploadaddress]\n",
    "    arr = blosc2.open(locfile, mode=\"r\")\n",
    "    mybytes += arr.schunk.nbytes\n",
    "    newshape = mydataset.append(arr)\n",
    "t2 = time.time()\n",
    "numMB = mybytes / 2**20\n",
    "dt = t2 - t1\n",
    "print(f\"Appended {numMB:.2f} MB in {dt:.2f} seconds. Bandwidth: {numMB / dt:.2f} MB/s.\")"
   ]
  },
  {
   "cell_type": "markdown",
   "id": "b14c0f22a21346d2",
   "metadata": {},
   "source": [
    "#### Step 4: Requery Lazy Expressions"
   ]
  },
  {
   "cell_type": "code",
   "execution_count": 35,
   "id": "b34273a913da4e60",
   "metadata": {
    "ExecuteTime": {
     "end_time": "2025-05-02T15:53:26.085740Z",
     "start_time": "2025-05-02T15:53:26.027992Z"
    }
   },
   "outputs": [
    {
     "name": "stdout",
     "output_type": "stream",
     "text": [
      "mean_precip[20, 100]: 0.00002464\n"
     ]
    }
   ],
   "source": [
    "v = list_of_stats[0][\"mean_precip\"]\n",
    "x = v[20, 100]  # Return numpy array\n",
    "ans = np.format_float_positional(x, unique=False, fractional=False, trim=\"k\", precision=4)\n",
    "print(f\"mean_precip[20, 100]: {ans}\")"
   ]
  },
  {
   "cell_type": "code",
   "execution_count": 29,
   "id": "e329e8600626a4bd",
   "metadata": {
    "ExecuteTime": {
     "end_time": "2025-05-05T10:54:14.554988Z",
     "start_time": "2025-05-05T10:54:11.141240Z"
    }
   },
   "outputs": [],
   "source": [
    "for f in client.get(\"@shared\").file_list:\n",
    "    if f.startswith(\"weather-data/m\") or f.startswith(\"weather-data/s\"):\n",
    "        client.remove(\"@shared/\" + f)"
   ]
  }
 ],
 "metadata": {
  "kernelspec": {
   "display_name": "Python 3 (ipykernel)",
   "language": "python",
   "name": "python3"
  },
  "language_info": {
   "codemirror_mode": {
    "name": "ipython",
    "version": 3
   },
   "file_extension": ".py",
   "mimetype": "text/x-python",
   "name": "python",
   "nbconvert_exporter": "python",
   "pygments_lexer": "ipython3",
   "version": "3.12.9"
  }
 },
 "nbformat": 4,
 "nbformat_minor": 5
}
