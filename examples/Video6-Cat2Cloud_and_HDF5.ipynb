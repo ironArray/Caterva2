{
 "cells": [
  {
   "cell_type": "markdown",
   "id": "482a2e49855cf450",
   "metadata": {},
   "source": [
    "# Cat2Cloud for HDF5 files"
   ]
  },
  {
   "cell_type": "markdown",
   "id": "436089461f7a310e",
   "metadata": {},
   "source": [
    "#### Installs and imports"
   ]
  },
  {
   "cell_type": "code",
   "id": "71d3ef232dae45bc",
   "metadata": {},
   "source": [
    "# Install necessary libraries\n",
    "# !pip install caterva2 blosc2 matplotlib requests aiohttp fsspec\n",
    "# Imports\n",
    "import requests\n",
    "\n",
    "import caterva2 as cat2\n",
    "\n",
    "%matplotlib inline\n",
    "import os.path\n",
    "\n",
    "import matplotlib.pyplot as plt\n",
    "\n",
    "plt.style.use(\"default\")\n",
    "plt.rcParams[\"animation.html\"] = \"jshtml\"\n",
    "# plt.rcParams.update({'text.usetex': False, 'font.serif': ['cm'], 'font.size': 16})\n",
    "plt.rcParams[\"figure.dpi\"] = 100\n",
    "plt.rcParams[\"savefig.dpi\"] = 100\n",
    "plt.style.use(\"seaborn-v0_8-paper\")\n",
    "SMALL_SIZE = 1\n",
    "MEDIUM_SIZE = 2\n",
    "BIGGER_SIZE = 3\n",
    "\n",
    "plt.rc(\"font\", size=SMALL_SIZE)  # controls default text sizes\n",
    "plt.rc(\"axes\", titlesize=SMALL_SIZE)  # fontsize of the axes title\n",
    "plt.rc(\"axes\", labelsize=MEDIUM_SIZE)  # fontsize of the x and y labels\n",
    "plt.rc(\"xtick\", labelsize=SMALL_SIZE)  # fontsize of the tick labels\n",
    "plt.rc(\"ytick\", labelsize=SMALL_SIZE)  # fontsize of the tick labels\n",
    "plt.rc(\"legend\", fontsize=SMALL_SIZE)  # legend fontsize\n",
    "plt.rc(\"figure\", titlesize=BIGGER_SIZE)  # fontsize of the figure title"
   ],
   "outputs": [],
   "execution_count": null
  },
  {
   "cell_type": "markdown",
   "id": "bcee98f380d40882",
   "metadata": {},
   "source": [
    "#### Download h5 data from url to local"
   ]
  },
  {
   "cell_type": "code",
   "id": "ed42711c192a3f08",
   "metadata": {},
   "source": [
    "# This is a large file (~ 1 GB), so it may take a while to download.\n",
    "dir_path = \"kevlar\"\n",
    "if not os.path.exists(f\"{dir_path}.h5\"):\n",
    "    response = requests.get(f\"http://www.silx.org/pub/pyFAI/pyFAI_UM_2020/data_ID13/{dir_path}.h5\")\n",
    "    with open(f\"{dir_path}.h5\", mode=\"wb\") as file:\n",
    "        file.write(response.content)"
   ],
   "outputs": [],
   "execution_count": null
  },
  {
   "cell_type": "markdown",
   "id": "8f2fa65d99f4b685",
   "metadata": {},
   "source": [
    "#### Setup client connection to server (modify user credentials as necessary)"
   ]
  },
  {
   "metadata": {},
   "cell_type": "code",
   "outputs": [],
   "execution_count": null,
   "source": [
    "url = \"https://cat2.cloud/demo\"\n",
    "client = cat2.Client(url, (\"user@example.com\", \"foobar11\"))\n",
    "myroot = client.get(\"@shared\")  # shared so all project users have access\n",
    "print(f\"Before uploading and unfolding: {myroot.file_list}\")"
   ],
   "id": "2690f847b17398ac"
  },
  {
   "cell_type": "markdown",
   "id": "790c000e22d7d039",
   "metadata": {},
   "source": [
    "#### Upload and unfold the files to the server"
   ]
  },
  {
   "metadata": {},
   "cell_type": "code",
   "outputs": [],
   "execution_count": null,
   "source": [
    "local_address = f\"{dir_path}.h5\"\n",
    "remote_address = myroot.name + \"/\" + local_address\n",
    "apath = client.upload(local_address, remote_address)\n",
    "bloscpath = client.unfold(apath)\n",
    "print(f\"After uploading and unfolding: {myroot.file_list}\")"
   ],
   "id": "2ac47e1dd938a435"
  },
  {
   "metadata": {},
   "cell_type": "markdown",
   "source": "### Part 1: Using the proxy data object",
   "id": "af23a8e2c2c26f4f"
  },
  {
   "metadata": {},
   "cell_type": "code",
   "outputs": [],
   "execution_count": null,
   "source": [
    "# Examine random frame of data\n",
    "proxy = myroot[\"kevlar/entry/data/data.b2nd\"]\n",
    "cmap = plt.cm.viridis\n",
    "example_image = proxy[5]\n",
    "fig = plt.figure()\n",
    "plt.imshow(example_image / 65535, figure=fig, cmap=cmap, vmax=1, vmin=0)"
   ],
   "id": "48490676a93251e"
  },
  {
   "cell_type": "code",
   "id": "d43be1933e9794c3",
   "metadata": {},
   "source": [
    "# Get an altered image that is more legible\n",
    "remastered_image = client.lazyexpr(\"proxy_where\", \"where(a < 10, a * 32000, a)\", {\"a\": proxy.path})\n",
    "example_image = client.get(remastered_image)[5] / 65535  # decompress locally\n",
    "fig = plt.figure()\n",
    "plt.imshow(example_image, figure=fig, cmap=cmap, vmax=1, vmin=0)"
   ],
   "outputs": [],
   "execution_count": null
  },
  {
   "cell_type": "code",
   "id": "edf8aa0aa17bbd",
   "metadata": {},
   "source": [
    "# Make a wee video - takes around 7s to load\n",
    "import matplotlib.animation as animation\n",
    "\n",
    "fig = plt.figure()\n",
    "ax = fig.gca()\n",
    "artists = []\n",
    "nframes = 10\n",
    "for frame in range(nframes):\n",
    "    example_image = client.get(remastered_image)[frame] / 65535  # decompress locally\n",
    "    im = ax.imshow(example_image, figure=fig, cmap=cmap, vmax=1, vmin=0)\n",
    "    artists.append((im,))\n",
    "\n",
    "ani = animation.ArtistAnimation(fig=fig, artists=artists, interval=200)\n",
    "plt.close()\n",
    "ani"
   ],
   "outputs": [],
   "execution_count": null
  },
  {
   "cell_type": "markdown",
   "id": "79d5a3a88fcfde7a",
   "metadata": {},
   "source": [
    "### Part 2: Using a blosc2 array"
   ]
  },
  {
   "cell_type": "code",
   "id": "71244890b29df63c",
   "metadata": {},
   "source": [
    "# copy 20 frames of data to blosc2 array on server\n",
    "# automatically stored in @personal root as @personal/kevlar20.b2nd\n",
    "bloscfile = client.lazyexpr(\"kevlar20\", \"a[:20]\", {\"a\": proxy.path}, compute=True)"
   ],
   "outputs": [],
   "execution_count": null
  },
  {
   "cell_type": "code",
   "id": "8094982ad7c22fe5",
   "metadata": {},
   "source": [
    "# Define lazyexpr that is saved but not executed - very quick\n",
    "remastered_image = client.lazyexpr(\n",
    "    \"blosc_where\", \"where(a < 10, a * 32000, a)\", {\"a\": bloscfile}, compute=False\n",
    ")"
   ],
   "outputs": [],
   "execution_count": null
  },
  {
   "cell_type": "code",
   "id": "51625f84608f8385",
   "metadata": {},
   "source": [
    "# Query a single image, execute lazyexpr on the fly\n",
    "example_image = client.get(remastered_image)[5] / 65535  # decompress locally\n",
    "fig = plt.figure()\n",
    "plt.imshow(example_image, figure=fig, cmap=cmap, vmax=1, vmin=0)"
   ],
   "outputs": [],
   "execution_count": null
  },
  {
   "cell_type": "code",
   "id": "d22872a0a54de791",
   "metadata": {},
   "source": [
    "# Make the same video as before, but using the blosc2 array. Takes about 8s.\n",
    "fig = plt.figure()\n",
    "ax = fig.gca()\n",
    "artists = []\n",
    "nframes = 10\n",
    "mylazy = client.get(remastered_image)\n",
    "for frame in range(nframes):\n",
    "    example_image = mylazy[frame] / 65535  # decompress locally\n",
    "    im = ax.imshow(example_image, figure=fig, cmap=cmap, vmax=1, vmin=0)\n",
    "    artists.append((im,))\n",
    "\n",
    "ani = animation.ArtistAnimation(fig=fig, artists=artists, interval=200)\n",
    "plt.close()\n",
    "ani"
   ],
   "outputs": [],
   "execution_count": null
  }
 ],
 "metadata": {
  "kernelspec": {
   "display_name": "Python 3 (ipykernel)",
   "language": "python",
   "name": "python3"
  },
  "language_info": {
   "codemirror_mode": {
    "name": "ipython",
    "version": 3
   },
   "file_extension": ".py",
   "mimetype": "text/x-python",
   "name": "python",
   "nbconvert_exporter": "python",
   "pygments_lexer": "ipython3",
   "version": "3.13.2"
  }
 },
 "nbformat": 4,
 "nbformat_minor": 5
}
