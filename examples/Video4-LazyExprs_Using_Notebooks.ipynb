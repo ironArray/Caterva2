{
 "cells": [
  {
   "cell_type": "markdown",
   "id": "d2b9ff23bbf6cb78",
   "metadata": {},
   "source": [
    "# Video 4: Lazy expressions using a notebook"
   ]
  },
  {
   "cell_type": "markdown",
   "id": "2aff4b1c2bb8ab64",
   "metadata": {},
   "source": [
    "#### Step 0: Installation and imports"
   ]
  },
  {
   "cell_type": "code",
   "execution_count": null,
   "id": "84abb04fb692eb39",
   "metadata": {},
   "outputs": [],
   "source": [
    "!pip install caterva2 blosc2 blosc2_grok matplotlib"
   ]
  },
  {
   "cell_type": "code",
   "execution_count": null,
   "id": "initial_id",
   "metadata": {
    "ExecuteTime": {
     "end_time": "2025-05-02T11:05:34.707055Z",
     "start_time": "2025-05-02T11:05:33.666840Z"
    }
   },
   "outputs": [],
   "source": [
    "from time import time\n",
    "\n",
    "import blosc2\n",
    "import matplotlib.pyplot as plt\n",
    "import numpy as np\n",
    "\n",
    "import caterva2 as cat2\n",
    "\n",
    "url = \"https://cat2.cloud/demo\""
   ]
  },
  {
   "cell_type": "markdown",
   "id": "6cfb54b2fb584cbb",
   "metadata": {},
   "source": [
    "#### Step 1: Setup client and get root"
   ]
  },
  {
   "cell_type": "code",
   "execution_count": null,
   "id": "78c7cc9d7715a900",
   "metadata": {
    "ExecuteTime": {
     "end_time": "2025-05-02T11:05:37.136454Z",
     "start_time": "2025-05-02T11:05:34.712274Z"
    }
   },
   "outputs": [],
   "source": [
    "client = cat2.Client(url, (\"user@example.com\", \"foobar11\"))\n",
    "client.get_roots()\n",
    "myroot = client.get(\"@personal\")\n",
    "print(myroot)\n",
    "print(myroot.file_list)"
   ]
  },
  {
   "cell_type": "markdown",
   "id": "973e097628a667aa",
   "metadata": {},
   "source": [
    "#### Step 2: Create and upload the arrays to the server\n"
   ]
  },
  {
   "cell_type": "code",
   "execution_count": null,
   "id": "2684fb8c0b441e8f",
   "metadata": {
    "ExecuteTime": {
     "end_time": "2025-05-02T11:05:40.738852Z",
     "start_time": "2025-05-02T11:05:37.904107Z"
    }
   },
   "outputs": [],
   "source": [
    "N = 1_000\n",
    "dtype = \"float64\"\n",
    "\n",
    "# Create and upload the arrays to the server\n",
    "t0 = time()\n",
    "a = blosc2.linspace(0, 1, N * N, dtype=dtype, shape=(N, N), urlpath=\"a.b2nd\", mode=\"w\")\n",
    "b = blosc2.linspace(1, 2, N * N, dtype=dtype, shape=(N, N), urlpath=\"b.b2nd\", mode=\"w\")\n",
    "c = blosc2.linspace(0, 1, N, dtype=dtype, shape=(N,), urlpath=\"c.b2nd\", mode=\"w\")\n",
    "\n",
    "apath, bpath, cpath = (\n",
    "    client.upload(\"a.b2nd\", \"@personal/a.b2nd\"),\n",
    "    client.upload(\"b.b2nd\", \"@personal/b.b2nd\"),\n",
    "    client.upload(\"c.b2nd\", \"@personal/c.b2nd\"),\n",
    ")\n",
    "tarray = time() - t0\n",
    "fs = a.schunk.nbytes + b.schunk.nbytes + c.schunk.nbytes\n",
    "print(\n",
    "    f\"Time for generating and uploading data (compressed): {tarray:.3f}s\"\n",
    "    f\" - data size: {fs / 2 ** 20:.2f} MB\"\n",
    ")"
   ]
  },
  {
   "cell_type": "code",
   "execution_count": null,
   "id": "38d47c23dc05aec9",
   "metadata": {
    "ExecuteTime": {
     "end_time": "2025-05-02T11:05:44.601928Z",
     "start_time": "2025-05-02T11:05:41.297293Z"
    }
   },
   "outputs": [],
   "source": [
    "ra, rb, rc = client.get(apath), client.get(bpath), client.get(cpath)\n",
    "print(ra, rb, rc)"
   ]
  },
  {
   "cell_type": "code",
   "execution_count": null,
   "id": "f26965c236899131",
   "metadata": {
    "ExecuteTime": {
     "end_time": "2025-05-02T11:05:45.703716Z",
     "start_time": "2025-05-02T11:05:45.155774Z"
    }
   },
   "outputs": [],
   "source": [
    "le_path = client.lazyexpr(\"le2\", \"a + 1\", {\"a\": apath})"
   ]
  },
  {
   "cell_type": "markdown",
   "id": "5e0f93abf02ab29",
   "metadata": {},
   "source": [
    "#### Step 3: Send lazy expressions to server"
   ]
  },
  {
   "cell_type": "code",
   "execution_count": null,
   "id": "621a8909ae498323",
   "metadata": {
    "ExecuteTime": {
     "end_time": "2025-04-24T14:12:16.997304Z",
     "start_time": "2025-04-24T14:12:15.927388Z"
    }
   },
   "outputs": [],
   "source": [
    "path_le = client.lazyexpr(\"le\", \"sin(a) + c\", {\"a\": apath, \"c\": cpath})\n",
    "rle = client.get(path_le)\n",
    "# Compute a slice of the remote array\n",
    "t0 = time()\n",
    "result = rle.slice(slice(5, 9))\n",
    "t1 = time() - t0\n",
    "fs = result.schunk.nbytes\n",
    "print(\n",
    "    f\"Time for computing and downloading data (compressed): {t1:.3f}s\" f\" - data size: {fs / 2 ** 10:.2f} KB\"\n",
    ")\n",
    "\n",
    "# Compute a slice of the remote array\n",
    "t0 = time()\n",
    "result = rle[5:9]\n",
    "t1 = time() - t0\n",
    "print(\n",
    "    f\"Time for computing and downloading data (uncompressed): {t1:.3f}s\"\n",
    "    f\" - data size: {fs / 2 ** 10:.2f} KB\"\n",
    ")\n",
    "\n",
    "np.allclose((blosc2.sin(a) + c)[5:9], result[:], rtol=1e-6)"
   ]
  },
  {
   "cell_type": "markdown",
   "id": "b3273f047743e75c",
   "metadata": {},
   "source": [
    "##### A more complicated expression"
   ]
  },
  {
   "cell_type": "code",
   "execution_count": null,
   "id": "d431352562cc5b66",
   "metadata": {
    "ExecuteTime": {
     "end_time": "2025-04-24T13:02:25.269763Z",
     "start_time": "2025-04-24T13:02:24.412711Z"
    }
   },
   "outputs": [],
   "source": [
    "path_le = client.lazyexpr(\n",
    "    \"le\", \"sum(((a**3 + sin(a**2)) < c) & (b > 0), axis = 1)\", {\"a\": apath, \"b\": bpath, \"c\": cpath}\n",
    ")\n",
    "rle = client.get(path_le)\n",
    "# Compute a slice of the remote array\n",
    "t0 = time()\n",
    "result = rle.slice(slice(5, 9))\n",
    "t1 = time() - t0\n",
    "fs = result.schunk.nbytes\n",
    "print(\n",
    "    f\"Time for computing and downloading data (compressed): {t1:.3f}s\" f\" - data size: {fs / 2 ** 10:.2f} KB\"\n",
    ")"
   ]
  },
  {
   "cell_type": "code",
   "execution_count": null,
   "id": "1500c523b1c4c791",
   "metadata": {
    "ExecuteTime": {
     "end_time": "2025-04-24T13:03:19.770781Z",
     "start_time": "2025-04-24T13:03:19.763356Z"
    }
   },
   "outputs": [],
   "source": [
    "result[:]"
   ]
  },
  {
   "cell_type": "markdown",
   "id": "506e0bc73b4e8cdc",
   "metadata": {},
   "source": [
    "## Bonus: Remote data processing with cat2cloud"
   ]
  },
  {
   "cell_type": "code",
   "execution_count": null,
   "id": "72f99fee56f40139",
   "metadata": {
    "ExecuteTime": {
     "end_time": "2025-04-24T13:36:21.916630Z",
     "start_time": "2025-04-24T13:36:21.493556Z"
    }
   },
   "outputs": [],
   "source": [
    "myroot = client.get(\"@public\")\n",
    "myfile = \"lung-jpeg2000_10x.b2nd\"\n",
    "address = \"examples/\" + myfile\n",
    "ds = myroot[address]\n",
    "print(ds)\n",
    "print(f\"Dataset shape is {ds.shape} and dtype is {ds.dtype}\")\n",
    "\n",
    "# Download and decompress slice of dataset\n",
    "plt.imshow(ds[5][0])\n",
    "plt.gca().axis(\"off\");"
   ]
  },
  {
   "cell_type": "markdown",
   "id": "b9dc30ca2fb35131",
   "metadata": {},
   "source": [
    "##### Method 1: Download data and compute locally"
   ]
  },
  {
   "cell_type": "code",
   "execution_count": null,
   "id": "3c6ae283e2e47397",
   "metadata": {
    "ExecuteTime": {
     "end_time": "2025-04-24T13:57:43.189588Z",
     "start_time": "2025-04-24T13:57:41.026620Z"
    }
   },
   "outputs": [],
   "source": [
    "# Download compressed data and compute std and mean\n",
    "slice_ = np.index_exp[:, :, :]\n",
    "t0 = time()\n",
    "data = ds.slice(slice_)\n",
    "s = blosc2.std(data, axis=0)\n",
    "m = blosc2.mean(data, axis=0)\n",
    "t1 = time() - t0\n",
    "print(f\"std_centre = {s[624, 1345]}, mean_centre = {m[624, 1345]}\")\n",
    "print(f\"std_offcentre = {s[20, 20]}, mean_offcentre = {m[20, 20]}\")\n",
    "print(f\"Total time = {round(t1, 4)} s\")"
   ]
  },
  {
   "cell_type": "markdown",
   "id": "de9817d32b31022d",
   "metadata": {},
   "source": [
    "##### Method 2: Upload lazy expression, compute remotely and download result\n"
   ]
  },
  {
   "cell_type": "code",
   "execution_count": null,
   "id": "bd5f3f1edc439bf6",
   "metadata": {
    "ExecuteTime": {
     "end_time": "2025-04-24T13:58:23.073859Z",
     "start_time": "2025-04-24T13:58:19.134444Z"
    }
   },
   "outputs": [],
   "source": [
    "# Send instructions to server and download std and mean\n",
    "t0 = time()\n",
    "std_path = client.lazyexpr(\"le_std\", \"std(a, axis=0)\", {\"a\": ds.path})\n",
    "mean_path = client.lazyexpr(\"le_mean\", \"mean(a, axis=0)\", {\"a\": ds.path})\n",
    "s = client.get(std_path).slice(slice_)\n",
    "m = client.get(mean_path).slice(slice_)\n",
    "t1 = time() - t0\n",
    "print(f\"std_centre = {s[624, 1345]}, mean_centre = {m[624, 1345]}\")\n",
    "print(f\"std_offcentre = {s[20, 20]}, mean_offcentre = {m[20, 20]}\")\n",
    "print(f\"Total time = {round(t1, 4)} s\")"
   ]
  },
  {
   "cell_type": "markdown",
   "id": "2f180dac27c7cf91",
   "metadata": {},
   "source": "To execute this notebook in a browser running on WSL, run ``jupyter notebook --port=8889 --no-browser`` in the WSL terminal."
  }
 ],
 "metadata": {
  "kernelspec": {
   "display_name": "Python 3 (ipykernel)",
   "language": "python",
   "name": "python3"
  },
  "language_info": {
   "codemirror_mode": {
    "name": "ipython",
    "version": 3
   },
   "file_extension": ".py",
   "mimetype": "text/x-python",
   "name": "python",
   "nbconvert_exporter": "python",
   "pygments_lexer": "ipython3",
   "version": "3.11.9"
  }
 },
 "nbformat": 4,
 "nbformat_minor": 5
}
