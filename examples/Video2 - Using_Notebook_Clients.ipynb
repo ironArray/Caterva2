{
 "cells": [
  {
   "cell_type": "markdown",
   "id": "ef212092-802e-42ad-aa78-734351069185",
   "metadata": {},
   "source": [
    "# Video 2: Using a notebook client"
   ]
  },
  {
   "cell_type": "markdown",
   "id": "b4a9dd27385a9e79",
   "metadata": {},
   "source": [
    "#### Step 0: Installation and imports"
   ]
  },
  {
   "cell_type": "code",
   "execution_count": null,
   "id": "a00510bc-a633-484a-ab65-958f2324e950",
   "metadata": {},
   "outputs": [],
   "source": [
    "#Install necessary libraries\n",
    "!pip install caterva2 blosc2 blosc2_grok matplotlib"
   ]
  },
  {
   "cell_type": "code",
   "execution_count": null,
   "id": "4d190d70-8b34-4f43-94fd-3df324bde670",
   "metadata": {},
   "outputs": [],
   "source": [
    "#Imports\n",
    "import blosc2\n",
    "import caterva2 as cat2\n",
    "import numpy as np\n",
    "import matplotlib.pyplot as plt\n",
    "import time"
   ]
  },
  {
   "cell_type": "markdown",
   "id": "806489edc91cc273",
   "metadata": {},
   "source": [
    "#### Step 1: Setup client and get root"
   ]
  },
  {
   "cell_type": "code",
   "execution_count": null,
   "id": "b8c5c675-9c5c-428e-90bb-c5bd04ff2b32",
   "metadata": {},
   "outputs": [],
   "source": [
    "client = cat2.Client(\"https://cat2.cloud/demo\", ('user@example.com', 'foobar11'))\n",
    "client.get_roots()"
   ]
  },
  {
   "cell_type": "code",
   "execution_count": null,
   "id": "f6845fdc-e1bb-4351-80d3-8930a68f7652",
   "metadata": {
    "ExecuteTime": {
     "end_time": "2025-04-09T09:22:13.773461Z",
     "start_time": "2025-04-09T09:22:13.338342Z"
    }
   },
   "outputs": [],
   "source": [
    "myroot = client.get('@public')\n",
    "print(myroot)\n",
    "myroot.file_list"
   ]
  },
  {
   "cell_type": "markdown",
   "id": "48e787f47a38b374",
   "metadata": {},
   "source": [
    "#### Step 2: Access and visualise a file"
   ]
  },
  {
   "cell_type": "code",
   "execution_count": null,
   "id": "29a1db29-836d-4d0e-8605-f1445561b2e7",
   "metadata": {
    "ExecuteTime": {
     "end_time": "2025-04-09T09:29:05.014693Z",
     "start_time": "2025-04-09T09:29:04.828875Z"
    }
   },
   "outputs": [],
   "source": [
    "myfile = 'lung-jpeg2000_10x.b2nd'\n",
    "address = 'examples/' + myfile\n",
    "ds = myroot[address]\n",
    "print(ds)\n",
    "print(f'Dataset shape is {ds.shape} and dtype is {ds.dtype}')"
   ]
  },
  {
   "cell_type": "code",
   "execution_count": null,
   "id": "e78859cf-a455-4990-bc98-a162387e970f",
   "metadata": {
    "ExecuteTime": {
     "end_time": "2025-04-09T09:29:20.277361Z",
     "start_time": "2025-04-09T09:29:18.364949Z"
    }
   },
   "outputs": [],
   "source": [
    "nbytes = client.get_info(myroot.name + '/' + address)['schunk']['cparams']['typesize']\n",
    "\n",
    "#Download and decompress slice of dataset\n",
    "t1 = time.time()\n",
    "temp = ds[5:9]  # download and decompress slice of dataset\n",
    "t2 = time.time()\n",
    "dltime1 = t2 - t1\n",
    "\n",
    "#Download compressed slice of dataset\n",
    "t1 = time.time()\n",
    "temp = ds.slice(slice(5, 9))  # download compressed slice of dataset\n",
    "t2 = time.time()\n",
    "dltime2 = t2 - t1\n",
    "\n",
    "numKB = np.prod(temp.shape) * nbytes / (2 ** 10)\n",
    "print(f'Download time with ds[5:9]: {round(dltime1, 2)} s -- dataset size {numKB} KB')\n",
    "print(f'Download time with ds.slice(slice(5,9)): {round(dltime2, 2)} s  -- dataset size {numKB} KB')\n",
    "plt.imshow(temp[0])\n",
    "plt.gca().axis('off');"
   ]
  },
  {
   "cell_type": "markdown",
   "id": "8ccd98201373718d",
   "metadata": {},
   "source": [
    "#### Step 3: Download and save uncompressed file locally"
   ]
  },
  {
   "cell_type": "code",
   "execution_count": null,
   "id": "f54ff270-1a75-4b9c-ac40-40c30bcc340a",
   "metadata": {
    "ExecuteTime": {
     "end_time": "2025-04-09T09:31:48.282745Z",
     "start_time": "2025-04-09T09:31:47.078766Z"
    }
   },
   "outputs": [],
   "source": [
    "client.download(myroot.name + '/' + address, myfile)\n",
    "arr = blosc2.open(myfile)[:]\n",
    "newarr = blosc2.asarray(arr, cparams={'clevel': 0})\n",
    "mylocalfile = 'uncompressed_' + myfile\n",
    "blosc2.save(newarr, mylocalfile, cparams={'clevel': 0}, mode='w')"
   ]
  },
  {
   "cell_type": "markdown",
   "id": "3239c513d1418989",
   "metadata": {},
   "source": [
    "#### Step 4: Upload uncompressed file to server"
   ]
  },
  {
   "cell_type": "code",
   "execution_count": null,
   "id": "7700e8e5-6d34-4e89-8d0c-125f39cb0325",
   "metadata": {
    "ExecuteTime": {
     "end_time": "2025-04-09T09:30:15.309022Z",
     "start_time": "2025-04-09T09:30:13.062438Z"
    }
   },
   "outputs": [],
   "source": [
    "uploadaddress = 'examples/' + mylocalfile\n",
    "client.upload(mylocalfile, myroot.name + '/' + uploadaddress)\n",
    "myroot.file_list"
   ]
  },
  {
   "cell_type": "markdown",
   "id": "18e9274be79934d2",
   "metadata": {},
   "source": [
    "#### Step 5: Access and visualise uncompressed file"
   ]
  },
  {
   "cell_type": "code",
   "execution_count": null,
   "id": "df91ab18-4531-4d45-ac86-7e4b93e5022b",
   "metadata": {
    "ExecuteTime": {
     "end_time": "2025-04-09T09:32:33.589899Z",
     "start_time": "2025-04-09T09:32:31.540552Z"
    }
   },
   "outputs": [],
   "source": [
    "ds = myroot[uploadaddress]\n",
    "print(ds)\n",
    "t1 = time.time()\n",
    "temp = ds[5:9]\n",
    "t2 = time.time()\n",
    "totTime = t2 - t1\n",
    "print(f'Download time: {round(totTime, 2)} s')\n",
    "plt.imshow(temp[0])  #try 1 and 2\n",
    "plt.gca().axis('off');"
   ]
  },
  {
   "cell_type": "markdown",
   "id": "d42fbdd6d524a9f9",
   "metadata": {},
   "source": [
    "#### Step 6: Remove uncompressed file from server"
   ]
  },
  {
   "cell_type": "code",
   "execution_count": null,
   "id": "cff7b4eb-c3bd-436e-9d41-d06281981392",
   "metadata": {},
   "outputs": [],
   "source": "client.remove(myroot.name + '/' + uploadaddress)"
  }
 ],
 "metadata": {
  "kernelspec": {
   "display_name": "Python 3 (ipykernel)",
   "language": "python",
   "name": "python3"
  },
  "language_info": {
   "codemirror_mode": {
    "name": "ipython",
    "version": 3
   },
   "file_extension": ".py",
   "mimetype": "text/x-python",
   "name": "python",
   "nbconvert_exporter": "python",
   "pygments_lexer": "ipython3",
   "version": "3.13.2"
  }
 },
 "nbformat": 4,
 "nbformat_minor": 5
}
