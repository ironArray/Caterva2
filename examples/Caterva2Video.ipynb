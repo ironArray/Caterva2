{
 "cells": [
  {
   "cell_type": "markdown",
   "id": "e719d1a39c643839",
   "metadata": {},
   "source": [
    "# Caterva2 Python client"
   ]
  },
  {
   "cell_type": "code",
   "execution_count": null,
   "id": "initial_id",
   "metadata": {},
   "outputs": [],
   "source": [
    "#!pip install caterva2 blosc2 blosc2_grok matplotlib\n",
    "# Imports\n",
    "import caterva2 as cat2"
   ]
  },
  {
   "cell_type": "markdown",
   "id": "85894d8493f63715",
   "metadata": {},
   "source": [
    "#### Upload, download, metadata"
   ]
  },
  {
   "cell_type": "code",
   "execution_count": null,
   "id": "d1da7cf5b8a87f6c",
   "metadata": {},
   "outputs": [],
   "source": [
    "# First make sure a server is running via command line : CATERVA2_SECRET=c2sikrit cat2sub\n",
    "client = cat2.Client(\"http://localhost:8000\", (\"user@example.com\", \"foobar11\"))\n",
    "locpath, remote_path = \"localfile.b2nd\", \"@personal/localfile.b2nd\"\n",
    "\n",
    "# DOWNLOAD\n",
    "client.download(remote_path, locpath)\n",
    "\n",
    "# UPLOAD\n",
    "client.upload(locpath, remote_path)\n",
    "\n",
    "# METADATA\n",
    "print(client.get_info(remote_path))"
   ]
  },
  {
   "cell_type": "markdown",
   "id": "208cb8fd6b20c70a",
   "metadata": {},
   "source": [
    "#### Port into local memory"
   ]
  },
  {
   "cell_type": "code",
   "execution_count": null,
   "id": "2ecba921417f7292",
   "metadata": {},
   "outputs": [],
   "source": [
    "ds = client.get(remote_path)\n",
    "\n",
    "# Download and decompress slice of dataset\n",
    "temp = ds[:, 5:9]  # NumPy Array\n",
    "\n",
    "# Download compressed slice of dataset\n",
    "temp = ds.slice(None, slice(5, 9))  # Compressed, Blosc2 Array"
   ]
  },
  {
   "cell_type": "markdown",
   "id": "45983801ad5552b",
   "metadata": {},
   "source": [
    "#### Filtering"
   ]
  },
  {
   "cell_type": "code",
   "execution_count": null,
   "id": "ae8e53c4173fd414",
   "metadata": {},
   "outputs": [],
   "source": [
    "arr = client.get(\"@personal/sa-1M.b2nd\")\n",
    "servered = arr[\"(A < - 500) & (B >= .1)\"][:]\n",
    "print(f\"Full array shape = {arr.shape}, filtered array shape = {servered.shape}\")"
   ]
  },
  {
   "cell_type": "markdown",
   "id": "d13d480624005000",
   "metadata": {},
   "source": [
    "#### Lazy expressions"
   ]
  },
  {
   "cell_type": "code",
   "execution_count": null,
   "id": "bc6ee981d5db5c67",
   "metadata": {},
   "outputs": [],
   "source": [
    "path_le = client.lazyexpr(\"pycli_expr\", \"sin(a) + 2\", {\"a\": ds.path})\n",
    "print(client.get(\"@personal\").file_list)"
   ]
  }
 ],
 "metadata": {
  "kernelspec": {
   "display_name": "Python 3 (ipykernel)",
   "language": "python",
   "name": "python3"
  },
  "language_info": {
   "codemirror_mode": {
    "name": "ipython",
    "version": 3
   },
   "file_extension": ".py",
   "mimetype": "text/x-python",
   "name": "python",
   "nbconvert_exporter": "python",
   "pygments_lexer": "ipython3",
   "version": "3.13.2"
  }
 },
 "nbformat": 4,
 "nbformat_minor": 5
}
