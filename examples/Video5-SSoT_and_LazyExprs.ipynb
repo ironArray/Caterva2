{
 "cells": [
  {
   "cell_type": "markdown",
   "id": "ed72a08f52eb80f2",
   "metadata": {},
   "source": [
    "# Video 5: SSoT and Lazy Expressions"
   ]
  },
  {
   "cell_type": "markdown",
   "id": "81c39f01140affc",
   "metadata": {},
   "source": [
    "#### Step 0: Move Data to Server"
   ]
  },
  {
   "cell_type": "code",
   "execution_count": null,
   "id": "6124bdf93fb121c2",
   "metadata": {
    "ExecuteTime": {
     "end_time": "2025-05-05T10:12:59.134281Z",
     "start_time": "2025-05-05T10:12:32.709533Z"
    },
    "scrolled": true
   },
   "outputs": [],
   "source": [
    "# Install necessary libraries\n",
    "!pip install caterva2 blosc2 blosc2_grok matplotlib \"xarray[complete]>=2025.1.2\" \"zarr>=3.0.4\" requests aiohttp fsspec\n",
    "# Imports\n",
    "import os.path\n",
    "import time\n",
    "\n",
    "import blosc2\n",
    "import numpy as np\n",
    "import xarray as xr\n",
    "\n",
    "import caterva2 as cat2"
   ]
  },
  {
   "cell_type": "code",
   "execution_count": null,
   "id": "28768c1e-bc73-4d4e-b0de-ed23e8d08264",
   "metadata": {
    "ExecuteTime": {
     "end_time": "2025-05-05T10:13:38.029818Z",
     "start_time": "2025-05-05T10:13:29.548677Z"
    }
   },
   "outputs": [],
   "source": [
    "# Get data from dynamical.org\n",
    "dir_path = \"weather-data\"\n",
    "ds = xr.open_zarr(\"https://data.dynamical.org/noaa/gfs/analysis-hourly/latest.zarr\")\n",
    "lat = slice(70, 0)\n",
    "long = slice(0, 70)\n",
    "datestart, dateend = \"2023-01-01\", \"2024-01-01\"\n",
    "cparams = {\"codec\": blosc2.Codec.ZSTD, \"clevel\": 6}\n",
    "\n",
    "datasets = [\n",
    "    (\"precipitation_surface\", \"precip\"),\n",
    "    (\"temperature_2m\", \"temp\"),\n",
    "    (\"wind_u_10m\", \"windu\"),\n",
    "    (\"wind_v_10m\", \"windv\"),\n",
    "]\n",
    "# Download data locally\n",
    "if not os.path.isdir(dir_path):\n",
    "    os.mkdir(dir_path)\n",
    "\n",
    "for dset, short in datasets:\n",
    "    print(f\"Fetching dataset {dset} from dynamical.org...\")\n",
    "    arr = ds[dset].sel(time=slice(datestart, dateend), latitude=lat, longitude=long)\n",
    "    blosc2.asarray(arr.values, urlpath=f\"{dir_path}/{short}.b2nd\", mode=\"w\", cparams=cparams)\n",
    "\n",
    "# Download extra month of data to append later\n",
    "datestart, dateend = \"2024-01-01\", \"2024-01-31\"\n",
    "for dset, short in datasets:\n",
    "    print(f\"Fetching dataset {dset} from dynamical.org...\")\n",
    "    arr = ds[dset].sel(time=slice(datestart, dateend), latitude=lat, longitude=long)\n",
    "    blosc2.asarray(arr.values, urlpath=f\"{dir_path}/{short}Extra.b2nd\", mode=\"w\", cparams=cparams)"
   ]
  },
  {
   "cell_type": "code",
   "execution_count": null,
   "id": "75c9d21ea4ce3020",
   "metadata": {
    "ExecuteTime": {
     "end_time": "2025-05-05T10:16:18.145514Z",
     "start_time": "2025-05-05T10:14:23.184545Z"
    }
   },
   "outputs": [],
   "source": [
    "# Setup client connection to server\n",
    "client = cat2.Client(\"https://cat2.cloud/demo\", (\"user@example.com\", \"foobar11\"))\n",
    "client.get_roots()\n",
    "myroot = client.get(\"@shared\")\n",
    "# Upload the files to the server\n",
    "list_of_datasets = []\n",
    "for _, short in datasets:\n",
    "    uploadaddress = f\"{dir_path}/{short}.b2nd\"\n",
    "    apath = client.upload(uploadaddress, myroot.name + \"/\" + uploadaddress)\n",
    "    list_of_datasets += [apath]"
   ]
  },
  {
   "cell_type": "code",
   "execution_count": null,
   "id": "8614d6c9cdc3b919",
   "metadata": {},
   "outputs": [],
   "source": [
    "list_of_datasets = [\"weather-data/\" + name for name in client.get_list(myroot.name + \"/\" + \"weather-data\")]\n",
    "list_of_datasets = [\n",
    "    f for f in list_of_datasets if not (f.startswith(\"weather-data/m\") or f.startswith(\"weather-data/s\"))\n",
    "]\n",
    "list_of_datasets"
   ]
  },
  {
   "cell_type": "markdown",
   "id": "43ea9a90fe3782cb",
   "metadata": {},
   "source": [
    "#### Step 1: Save Lazy Expressions on Server"
   ]
  },
  {
   "cell_type": "code",
   "execution_count": null,
   "id": "258e06189e4f5026",
   "metadata": {},
   "outputs": [],
   "source": [
    "# Lazy Expressions, saved in @personal\n",
    "list_of_stats = []\n",
    "for dset in list_of_datasets:\n",
    "    locdict = {}\n",
    "    locds = myroot[dset]\n",
    "    apath = locds.path\n",
    "    short = str(apath).split(\".\")[0].split(\"/\")[-1]\n",
    "    locdict[\"mean_\" + short] = client.get(\n",
    "        client.lazyexpr(\"mean_\" + short, \"mean(a, axis = 0)\", {\"a\": apath})\n",
    "    )\n",
    "    locdict[\"std_\" + short] = client.get(client.lazyexpr(\"std_\" + short, \"std(a, axis = 0)\", {\"a\": apath}))\n",
    "    locdict[\"sum_\" + short] = client.get(client.lazyexpr(\"sum_\" + short, \"sum(a, axis = 0)\", {\"a\": apath}))\n",
    "    list_of_stats += [locdict]"
   ]
  },
  {
   "cell_type": "code",
   "execution_count": null,
   "id": "f13e53e9b2e89bda",
   "metadata": {},
   "outputs": [],
   "source": [
    "# Move Lazy Expressions to @shared to enable collaboration\n",
    "for stat in list_of_stats:\n",
    "    for k, v in stat.items():\n",
    "        newpath = client.move(v.path, myroot.name + \"/weather-data/\" + str(v.path).split(\"/\")[-1])\n",
    "        stat[k] = client.get(newpath)"
   ]
  },
  {
   "cell_type": "markdown",
   "id": "432943a14c7bd6d4",
   "metadata": {},
   "source": [
    "#### Step 2: Query Lazy Expressions"
   ]
  },
  {
   "cell_type": "code",
   "execution_count": null,
   "id": "60b6f2d1ea717bd8",
   "metadata": {
    "ExecuteTime": {
     "end_time": "2025-05-02T12:29:11.130648Z",
     "start_time": "2025-05-02T12:28:38.686076Z"
    }
   },
   "outputs": [],
   "source": [
    "v = list_of_stats[0][\"mean_precip\"]\n",
    "x = v[20, 100]  # Return numpy array\n",
    "ans = np.format_float_positional(x, unique=False, fractional=False, trim=\"k\", precision=4)\n",
    "print(f\"mean_precip[20, 100]: {ans}\")"
   ]
  },
  {
   "cell_type": "markdown",
   "id": "6b1d4cd743e565a2",
   "metadata": {},
   "source": [
    "#### Step 3: Append extra month of data to the server-hosted datasets"
   ]
  },
  {
   "cell_type": "code",
   "execution_count": null,
   "id": "49433c67937cb4b4",
   "metadata": {
    "ExecuteTime": {
     "end_time": "2025-05-07T10:17:02.774783Z",
     "start_time": "2025-05-07T10:17:02.634967Z"
    }
   },
   "outputs": [],
   "source": [
    "mybytes = 0\n",
    "t1 = time.time()\n",
    "for _, short in datasets:\n",
    "    locfile = f\"{dir_path}/{short}Extra.b2nd\"\n",
    "    uploadaddress = f\"{dir_path}/{short}.b2nd\"\n",
    "    mydataset = myroot[uploadaddress]\n",
    "    arr = blosc2.open(locfile, mode=\"r\")\n",
    "    mybytes += arr.schunk.nbytes\n",
    "    newshape = mydataset.append(arr)\n",
    "t2 = time.time()\n",
    "numMB = mybytes / 2**20\n",
    "dt = t2 - t1\n",
    "print(f\"Appended {numMB:.2f} MB in {dt:.2f} seconds. Bandwidth: {numMB / dt:.2f} MB/s.\")"
   ]
  },
  {
   "cell_type": "markdown",
   "id": "b14c0f22a21346d2",
   "metadata": {},
   "source": [
    "#### Step 4: Requery Lazy Expressions"
   ]
  },
  {
   "cell_type": "code",
   "execution_count": null,
   "id": "b34273a913da4e60",
   "metadata": {
    "ExecuteTime": {
     "end_time": "2025-05-02T15:53:26.085740Z",
     "start_time": "2025-05-02T15:53:26.027992Z"
    }
   },
   "outputs": [],
   "source": [
    "v = list_of_stats[0][\"mean_precip\"]\n",
    "x = v[20, 100]  # Return numpy array\n",
    "ans = np.format_float_positional(x, unique=False, fractional=False, trim=\"k\", precision=4)\n",
    "print(f\"mean_precip[20, 100]: {ans}\")"
   ]
  },
  {
   "cell_type": "code",
   "execution_count": null,
   "id": "e329e8600626a4bd",
   "metadata": {
    "ExecuteTime": {
     "end_time": "2025-05-05T10:54:14.554988Z",
     "start_time": "2025-05-05T10:54:11.141240Z"
    }
   },
   "outputs": [],
   "source": [
    "for f in client.get(\"@shared\").file_list:\n",
    "    if f.startswith(\"weather-data/m\") or f.startswith(\"weather-data/s\"):\n",
    "        client.remove(\"@shared/\" + f)"
   ]
  }
 ],
 "metadata": {
  "kernelspec": {
   "display_name": "Python 3 (ipykernel)",
   "language": "python",
   "name": "python3"
  },
  "language_info": {
   "codemirror_mode": {
    "name": "ipython",
    "version": 3
   },
   "file_extension": ".py",
   "mimetype": "text/x-python",
   "name": "python",
   "nbconvert_exporter": "python",
   "pygments_lexer": "ipython3",
   "version": "3.12.9"
  }
 },
 "nbformat": 4,
 "nbformat_minor": 5
}
